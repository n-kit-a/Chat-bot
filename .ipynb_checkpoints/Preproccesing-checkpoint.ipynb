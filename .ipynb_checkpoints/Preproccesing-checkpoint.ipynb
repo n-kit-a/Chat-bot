{
 "cells": [
  {
   "cell_type": "code",
   "execution_count": 36,
   "metadata": {},
   "outputs": [],
   "source": [
    "import sys,os\n",
    "stderr = sys.stderr\n",
    "sys.stderr = open(os.devnull, 'w')\n",
    "import  pandas as pd\n",
    "from nltk.tokenize import wordpunct_tokenize\n",
    "from nltk.corpus import stopwords\n",
    "import nltk\n",
    "nltk.download('stopwords')\n",
    "sys.stderr = stderr\n",
    "\n",
    "\n",
    "#инициализируем стоп слова и символы\n",
    "stop = set(stopwords.words('russian'))\n",
    "stop.update(['.', ',', '\"', \"'\", '?', '!', ':', ';', '(', ')', '[', ']', '{', '}','#','№'])\n",
    "\n",
    "def remove_stop_words(query):\n",
    "    str = ''\n",
    "    for i in wordpunct_tokenize(query):\n",
    "        if i not in stop and not i.isdigit():\n",
    "            str = str + i + ' '\n",
    "\n",
    "    return str\n",
    "\n",
    "def clean_csv(df):\n",
    "    for index,row in df.iterrows():\n",
    "        row['запрос'] = remove_stop_words(row['запрос']).rstrip().lower()"
   ]
  }
 ],
 "metadata": {
  "kernelspec": {
   "display_name": "Python 3",
   "language": "python",
   "name": "python3"
  },
  "language_info": {
   "codemirror_mode": {
    "name": "ipython",
    "version": 3
   },
   "file_extension": ".py",
   "mimetype": "text/x-python",
   "name": "python",
   "nbconvert_exporter": "python",
   "pygments_lexer": "ipython3",
   "version": "3.7.6"
  }
 },
 "nbformat": 4,
 "nbformat_minor": 4
}
